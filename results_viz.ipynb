{
 "cells": [
  {
   "cell_type": "code",
   "execution_count": 124,
   "metadata": {},
   "outputs": [],
   "source": [
    "import pandas as pd\n",
    "import matplotlib.pyplot as plt\n",
    "import seaborn as sns"
   ]
  },
  {
   "cell_type": "code",
   "execution_count": 125,
   "metadata": {},
   "outputs": [
    {
     "name": "stdout",
     "output_type": "stream",
     "text": [
      "206\n"
     ]
    },
    {
     "data": {
      "text/html": [
       "<div>\n",
       "<style scoped>\n",
       "    .dataframe tbody tr th:only-of-type {\n",
       "        vertical-align: middle;\n",
       "    }\n",
       "\n",
       "    .dataframe tbody tr th {\n",
       "        vertical-align: top;\n",
       "    }\n",
       "\n",
       "    .dataframe thead th {\n",
       "        text-align: right;\n",
       "    }\n",
       "</style>\n",
       "<table border=\"1\" class=\"dataframe\">\n",
       "  <thead>\n",
       "    <tr style=\"text-align: right;\">\n",
       "      <th></th>\n",
       "      <th>model</th>\n",
       "      <th>num_epochs</th>\n",
       "      <th>num_train</th>\n",
       "      <th>accuracy</th>\n",
       "    </tr>\n",
       "  </thead>\n",
       "  <tbody>\n",
       "    <tr>\n",
       "      <th>196</th>\n",
       "      <td>deep_cheb_zero</td>\n",
       "      <td>10</td>\n",
       "      <td>10000</td>\n",
       "      <td>0.765833</td>\n",
       "    </tr>\n",
       "    <tr>\n",
       "      <th>197</th>\n",
       "      <td>deep_fir_zero</td>\n",
       "      <td>30</td>\n",
       "      <td>1200</td>\n",
       "      <td>0.971667</td>\n",
       "    </tr>\n",
       "    <tr>\n",
       "      <th>198</th>\n",
       "      <td>deep_fir_zero</td>\n",
       "      <td>30</td>\n",
       "      <td>1200</td>\n",
       "      <td>0.983750</td>\n",
       "    </tr>\n",
       "    <tr>\n",
       "      <th>199</th>\n",
       "      <td>deep_fir_zero</td>\n",
       "      <td>30</td>\n",
       "      <td>1200</td>\n",
       "      <td>0.967500</td>\n",
       "    </tr>\n",
       "    <tr>\n",
       "      <th>200</th>\n",
       "      <td>deep_fir_zero</td>\n",
       "      <td>30</td>\n",
       "      <td>1200</td>\n",
       "      <td>0.984167</td>\n",
       "    </tr>\n",
       "    <tr>\n",
       "      <th>201</th>\n",
       "      <td>deep_fir</td>\n",
       "      <td>30</td>\n",
       "      <td>1200</td>\n",
       "      <td>0.995833</td>\n",
       "    </tr>\n",
       "    <tr>\n",
       "      <th>202</th>\n",
       "      <td>deep_fir</td>\n",
       "      <td>30</td>\n",
       "      <td>1200</td>\n",
       "      <td>1.000000</td>\n",
       "    </tr>\n",
       "    <tr>\n",
       "      <th>203</th>\n",
       "      <td>deep_fir_zero</td>\n",
       "      <td>20</td>\n",
       "      <td>600</td>\n",
       "      <td>0.827083</td>\n",
       "    </tr>\n",
       "    <tr>\n",
       "      <th>204</th>\n",
       "      <td>deep_fir_zero</td>\n",
       "      <td>20</td>\n",
       "      <td>600</td>\n",
       "      <td>0.852083</td>\n",
       "    </tr>\n",
       "    <tr>\n",
       "      <th>205</th>\n",
       "      <td>deep_fir_zero</td>\n",
       "      <td>20</td>\n",
       "      <td>600</td>\n",
       "      <td>0.871250</td>\n",
       "    </tr>\n",
       "  </tbody>\n",
       "</table>\n",
       "</div>"
      ],
      "text/plain": [
       "              model  num_epochs  num_train  accuracy\n",
       "196  deep_cheb_zero          10      10000  0.765833\n",
       "197   deep_fir_zero          30       1200  0.971667\n",
       "198   deep_fir_zero          30       1200  0.983750\n",
       "199   deep_fir_zero          30       1200  0.967500\n",
       "200   deep_fir_zero          30       1200  0.984167\n",
       "201        deep_fir          30       1200  0.995833\n",
       "202        deep_fir          30       1200  1.000000\n",
       "203   deep_fir_zero          20        600  0.827083\n",
       "204   deep_fir_zero          20        600  0.852083\n",
       "205   deep_fir_zero          20        600  0.871250"
      ]
     },
     "execution_count": 125,
     "metadata": {},
     "output_type": "execute_result"
    }
   ],
   "source": [
    "data = pd.read_csv('results.txt')\n",
    "print(len(data))\n",
    "data.tail(10)"
   ]
  },
  {
   "cell_type": "code",
   "execution_count": 126,
   "metadata": {},
   "outputs": [
    {
     "data": {
      "image/png": "[encoded data removed]",
      "text/plain": [
       "<Figure size 1080x720 with 1 Axes>"
      ]
     },
     "metadata": {
      "needs_background": "light"
     },
     "output_type": "display_data"
    }
   ],
   "source": [
    "data10 = data[data['num_epochs']==10]\n",
    "plt.figure(figsize=(15,10))\n",
    "plt.ylim((0,1.05))\n",
    "sns.boxplot(x=\"model\", y=\"accuracy\", data=data10[data10['num_train']==2400],whis=1.5);"
   ]
  },
  {
   "cell_type": "code",
   "execution_count": 127,
   "metadata": {
    "scrolled": true
   },
   "outputs": [
    {
     "data": {
      "text/html": [
       "<div>\n",
       "<style scoped>\n",
       "    .dataframe tbody tr th:only-of-type {\n",
       "        vertical-align: middle;\n",
       "    }\n",
       "\n",
       "    .dataframe tbody tr th {\n",
       "        vertical-align: top;\n",
       "    }\n",
       "\n",
       "    .dataframe thead th {\n",
       "        text-align: right;\n",
       "    }\n",
       "</style>\n",
       "<table border=\"1\" class=\"dataframe\">\n",
       "  <thead>\n",
       "    <tr style=\"text-align: right;\">\n",
       "      <th></th>\n",
       "      <th>model</th>\n",
       "      <th>num_epochs</th>\n",
       "      <th>num_train</th>\n",
       "      <th>accuracy</th>\n",
       "    </tr>\n",
       "  </thead>\n",
       "  <tbody>\n",
       "    <tr>\n",
       "      <th>0</th>\n",
       "      <td>deep_cheb</td>\n",
       "      <td>10</td>\n",
       "      <td>600</td>\n",
       "      <td>0.345792</td>\n",
       "    </tr>\n",
       "    <tr>\n",
       "      <th>1</th>\n",
       "      <td>deep_cheb</td>\n",
       "      <td>10</td>\n",
       "      <td>1200</td>\n",
       "      <td>0.505125</td>\n",
       "    </tr>\n",
       "    <tr>\n",
       "      <th>2</th>\n",
       "      <td>deep_cheb</td>\n",
       "      <td>10</td>\n",
       "      <td>2400</td>\n",
       "      <td>0.691375</td>\n",
       "    </tr>\n",
       "    <tr>\n",
       "      <th>3</th>\n",
       "      <td>deep_cheb</td>\n",
       "      <td>10</td>\n",
       "      <td>4200</td>\n",
       "      <td>0.790875</td>\n",
       "    </tr>\n",
       "    <tr>\n",
       "      <th>4</th>\n",
       "      <td>deep_cheb</td>\n",
       "      <td>10</td>\n",
       "      <td>5400</td>\n",
       "      <td>0.826667</td>\n",
       "    </tr>\n",
       "    <tr>\n",
       "      <th>5</th>\n",
       "      <td>deep_cheb</td>\n",
       "      <td>10</td>\n",
       "      <td>10000</td>\n",
       "      <td>0.892500</td>\n",
       "    </tr>\n",
       "    <tr>\n",
       "      <th>6</th>\n",
       "      <td>deep_cheb</td>\n",
       "      <td>20</td>\n",
       "      <td>600</td>\n",
       "      <td>0.347292</td>\n",
       "    </tr>\n",
       "    <tr>\n",
       "      <th>7</th>\n",
       "      <td>deep_cheb</td>\n",
       "      <td>20</td>\n",
       "      <td>1200</td>\n",
       "      <td>0.620417</td>\n",
       "    </tr>\n",
       "    <tr>\n",
       "      <th>8</th>\n",
       "      <td>deep_cheb</td>\n",
       "      <td>20</td>\n",
       "      <td>2400</td>\n",
       "      <td>0.752500</td>\n",
       "    </tr>\n",
       "    <tr>\n",
       "      <th>9</th>\n",
       "      <td>deep_cheb_zero</td>\n",
       "      <td>10</td>\n",
       "      <td>600</td>\n",
       "      <td>0.261625</td>\n",
       "    </tr>\n",
       "    <tr>\n",
       "      <th>10</th>\n",
       "      <td>deep_cheb_zero</td>\n",
       "      <td>10</td>\n",
       "      <td>1200</td>\n",
       "      <td>0.356417</td>\n",
       "    </tr>\n",
       "    <tr>\n",
       "      <th>11</th>\n",
       "      <td>deep_cheb_zero</td>\n",
       "      <td>10</td>\n",
       "      <td>2400</td>\n",
       "      <td>0.522875</td>\n",
       "    </tr>\n",
       "    <tr>\n",
       "      <th>12</th>\n",
       "      <td>deep_cheb_zero</td>\n",
       "      <td>10</td>\n",
       "      <td>4200</td>\n",
       "      <td>0.718375</td>\n",
       "    </tr>\n",
       "    <tr>\n",
       "      <th>13</th>\n",
       "      <td>deep_cheb_zero</td>\n",
       "      <td>10</td>\n",
       "      <td>5400</td>\n",
       "      <td>0.750625</td>\n",
       "    </tr>\n",
       "    <tr>\n",
       "      <th>14</th>\n",
       "      <td>deep_cheb_zero</td>\n",
       "      <td>10</td>\n",
       "      <td>10000</td>\n",
       "      <td>0.777708</td>\n",
       "    </tr>\n",
       "    <tr>\n",
       "      <th>15</th>\n",
       "      <td>deep_cheb_zero</td>\n",
       "      <td>20</td>\n",
       "      <td>600</td>\n",
       "      <td>0.341250</td>\n",
       "    </tr>\n",
       "    <tr>\n",
       "      <th>16</th>\n",
       "      <td>deep_cheb_zero</td>\n",
       "      <td>20</td>\n",
       "      <td>1200</td>\n",
       "      <td>0.482500</td>\n",
       "    </tr>\n",
       "    <tr>\n",
       "      <th>17</th>\n",
       "      <td>deep_cheb_zero</td>\n",
       "      <td>20</td>\n",
       "      <td>2400</td>\n",
       "      <td>0.709583</td>\n",
       "    </tr>\n",
       "    <tr>\n",
       "      <th>18</th>\n",
       "      <td>deep_fir</td>\n",
       "      <td>10</td>\n",
       "      <td>600</td>\n",
       "      <td>0.862792</td>\n",
       "    </tr>\n",
       "    <tr>\n",
       "      <th>19</th>\n",
       "      <td>deep_fir</td>\n",
       "      <td>10</td>\n",
       "      <td>1200</td>\n",
       "      <td>0.974292</td>\n",
       "    </tr>\n",
       "    <tr>\n",
       "      <th>20</th>\n",
       "      <td>deep_fir</td>\n",
       "      <td>10</td>\n",
       "      <td>2400</td>\n",
       "      <td>0.997250</td>\n",
       "    </tr>\n",
       "    <tr>\n",
       "      <th>21</th>\n",
       "      <td>deep_fir</td>\n",
       "      <td>10</td>\n",
       "      <td>4200</td>\n",
       "      <td>0.994583</td>\n",
       "    </tr>\n",
       "    <tr>\n",
       "      <th>22</th>\n",
       "      <td>deep_fir</td>\n",
       "      <td>10</td>\n",
       "      <td>5400</td>\n",
       "      <td>0.999583</td>\n",
       "    </tr>\n",
       "    <tr>\n",
       "      <th>23</th>\n",
       "      <td>deep_fir</td>\n",
       "      <td>10</td>\n",
       "      <td>10000</td>\n",
       "      <td>1.000000</td>\n",
       "    </tr>\n",
       "    <tr>\n",
       "      <th>24</th>\n",
       "      <td>deep_fir</td>\n",
       "      <td>20</td>\n",
       "      <td>600</td>\n",
       "      <td>0.955833</td>\n",
       "    </tr>\n",
       "    <tr>\n",
       "      <th>25</th>\n",
       "      <td>deep_fir</td>\n",
       "      <td>20</td>\n",
       "      <td>1200</td>\n",
       "      <td>0.995833</td>\n",
       "    </tr>\n",
       "    <tr>\n",
       "      <th>26</th>\n",
       "      <td>deep_fir</td>\n",
       "      <td>20</td>\n",
       "      <td>2400</td>\n",
       "      <td>1.000000</td>\n",
       "    </tr>\n",
       "    <tr>\n",
       "      <th>27</th>\n",
       "      <td>deep_fir</td>\n",
       "      <td>30</td>\n",
       "      <td>1200</td>\n",
       "      <td>0.997917</td>\n",
       "    </tr>\n",
       "    <tr>\n",
       "      <th>28</th>\n",
       "      <td>deep_fir_zero</td>\n",
       "      <td>10</td>\n",
       "      <td>600</td>\n",
       "      <td>0.797083</td>\n",
       "    </tr>\n",
       "    <tr>\n",
       "      <th>29</th>\n",
       "      <td>deep_fir_zero</td>\n",
       "      <td>10</td>\n",
       "      <td>1200</td>\n",
       "      <td>0.888833</td>\n",
       "    </tr>\n",
       "    <tr>\n",
       "      <th>30</th>\n",
       "      <td>deep_fir_zero</td>\n",
       "      <td>10</td>\n",
       "      <td>2400</td>\n",
       "      <td>0.974083</td>\n",
       "    </tr>\n",
       "    <tr>\n",
       "      <th>31</th>\n",
       "      <td>deep_fir_zero</td>\n",
       "      <td>10</td>\n",
       "      <td>4200</td>\n",
       "      <td>0.981292</td>\n",
       "    </tr>\n",
       "    <tr>\n",
       "      <th>32</th>\n",
       "      <td>deep_fir_zero</td>\n",
       "      <td>10</td>\n",
       "      <td>5400</td>\n",
       "      <td>0.986306</td>\n",
       "    </tr>\n",
       "    <tr>\n",
       "      <th>33</th>\n",
       "      <td>deep_fir_zero</td>\n",
       "      <td>10</td>\n",
       "      <td>10000</td>\n",
       "      <td>0.992500</td>\n",
       "    </tr>\n",
       "    <tr>\n",
       "      <th>34</th>\n",
       "      <td>deep_fir_zero</td>\n",
       "      <td>20</td>\n",
       "      <td>600</td>\n",
       "      <td>0.856875</td>\n",
       "    </tr>\n",
       "    <tr>\n",
       "      <th>35</th>\n",
       "      <td>deep_fir_zero</td>\n",
       "      <td>20</td>\n",
       "      <td>1200</td>\n",
       "      <td>0.973750</td>\n",
       "    </tr>\n",
       "    <tr>\n",
       "      <th>36</th>\n",
       "      <td>deep_fir_zero</td>\n",
       "      <td>20</td>\n",
       "      <td>2400</td>\n",
       "      <td>0.998333</td>\n",
       "    </tr>\n",
       "    <tr>\n",
       "      <th>37</th>\n",
       "      <td>deep_fir_zero</td>\n",
       "      <td>30</td>\n",
       "      <td>1200</td>\n",
       "      <td>0.976771</td>\n",
       "    </tr>\n",
       "  </tbody>\n",
       "</table>\n",
       "</div>"
      ],
      "text/plain": [
       "             model  num_epochs  num_train  accuracy\n",
       "0        deep_cheb          10        600  0.345792\n",
       "1        deep_cheb          10       1200  0.505125\n",
       "2        deep_cheb          10       2400  0.691375\n",
       "3        deep_cheb          10       4200  0.790875\n",
       "4        deep_cheb          10       5400  0.826667\n",
       "5        deep_cheb          10      10000  0.892500\n",
       "6        deep_cheb          20        600  0.347292\n",
       "7        deep_cheb          20       1200  0.620417\n",
       "8        deep_cheb          20       2400  0.752500\n",
       "9   deep_cheb_zero          10        600  0.261625\n",
       "10  deep_cheb_zero          10       1200  0.356417\n",
       "11  deep_cheb_zero          10       2400  0.522875\n",
       "12  deep_cheb_zero          10       4200  0.718375\n",
       "13  deep_cheb_zero          10       5400  0.750625\n",
       "14  deep_cheb_zero          10      10000  0.777708\n",
       "15  deep_cheb_zero          20        600  0.341250\n",
       "16  deep_cheb_zero          20       1200  0.482500\n",
       "17  deep_cheb_zero          20       2400  0.709583\n",
       "18        deep_fir          10        600  0.862792\n",
       "19        deep_fir          10       1200  0.974292\n",
       "20        deep_fir          10       2400  0.997250\n",
       "21        deep_fir          10       4200  0.994583\n",
       "22        deep_fir          10       5400  0.999583\n",
       "23        deep_fir          10      10000  1.000000\n",
       "24        deep_fir          20        600  0.955833\n",
       "25        deep_fir          20       1200  0.995833\n",
       "26        deep_fir          20       2400  1.000000\n",
       "27        deep_fir          30       1200  0.997917\n",
       "28   deep_fir_zero          10        600  0.797083\n",
       "29   deep_fir_zero          10       1200  0.888833\n",
       "30   deep_fir_zero          10       2400  0.974083\n",
       "31   deep_fir_zero          10       4200  0.981292\n",
       "32   deep_fir_zero          10       5400  0.986306\n",
       "33   deep_fir_zero          10      10000  0.992500\n",
       "34   deep_fir_zero          20        600  0.856875\n",
       "35   deep_fir_zero          20       1200  0.973750\n",
       "36   deep_fir_zero          20       2400  0.998333\n",
       "37   deep_fir_zero          30       1200  0.976771"
      ]
     },
     "execution_count": 127,
     "metadata": {},
     "output_type": "execute_result"
    }
   ],
   "source": [
    "d2 = data.groupby(['model','num_epochs','num_train']).mean().reset_index()\n",
    "d2"
   ]
  },
  {
   "cell_type": "code",
   "execution_count": 128,
   "metadata": {},
   "outputs": [
    {
     "data": {
      "image/png": "[encoded data removed]",
      "text/plain": [
       "<Figure size 1080x720 with 1 Axes>"
      ]
     },
     "metadata": {
      "needs_background": "light"
     },
     "output_type": "display_data"
    }
   ],
   "source": [
    "df = pd.DataFrame(d2[d2['num_epochs']==10])\n",
    "plt.figure(figsize=(15, 10))\n",
    "sns.barplot(x=\"num_train\", hue=\"model\", y=\"accuracy\", data=df)\n",
    "plt.show()"
   ]
  },
  {
   "cell_type": "code",
   "execution_count": 129,
   "metadata": {},
   "outputs": [
    {
     "data": {
      "text/plain": [
       "<matplotlib.axes._subplots.AxesSubplot at 0x7fb854de2510>"
      ]
     },
     "execution_count": 129,
     "metadata": {},
     "output_type": "execute_result"
    },
    {
     "data": {
      "image/png": "[encoded data removed]",
      "text/plain": [
       "<Figure size 432x288 with 1 Axes>"
      ]
     },
     "metadata": {
      "needs_background": "light"
     },
     "output_type": "display_data"
    }
   ],
   "source": [
    "tr = 4200\n",
    "ep = 10\n",
    "\n",
    "d3 = d2[d2['num_epochs']==ep]\n",
    "sns.barplot(d3[d3['num_train']==tr]['model'],d3[d3['num_train']==tr]['accuracy'])"
   ]
  },
  {
   "cell_type": "code",
   "execution_count": 130,
   "metadata": {},
   "outputs": [
    {
     "data": {
      "image/png": "[encoded data removed]",
      "text/plain": [
       "<Figure size 1080x720 with 1 Axes>"
      ]
     },
     "metadata": {
      "needs_background": "light"
     },
     "output_type": "display_data"
    }
   ],
   "source": [
    "df = pd.DataFrame(d2[d2['model']=='deep_fir_zero'])\n",
    "df =df[df['num_train']<4000]\n",
    "df =df[df['num_epochs']<30]\n",
    "plt.figure(figsize=(15, 10))\n",
    "sns.barplot(x=\"num_train\", hue=\"num_epochs\", y=\"accuracy\", data=df)\n",
    "plt.show()"
   ]
  },
  {
   "cell_type": "code",
   "execution_count": 131,
   "metadata": {},
   "outputs": [
    {
     "data": {
      "image/png": "[encoded data removed]",
      "text/plain": [
       "<Figure size 1080x720 with 1 Axes>"
      ]
     },
     "metadata": {
      "needs_background": "light"
     },
     "output_type": "display_data"
    }
   ],
   "source": [
    "df = pd.DataFrame(d2)\n",
    "df =df[df['num_train']==1200]\n",
    "df =df[(df['model']=='deep_fir')|(df['model']=='deep_fir_zero')]\n",
    "plt.figure(figsize=(15, 10))\n",
    "sns.barplot(x=\"num_epochs\", hue=\"model\", y=\"accuracy\", data=df)\n",
    "plt.show()"
   ]
  },
  {
   "cell_type": "code",
   "execution_count": 132,
   "metadata": {},
   "outputs": [
    {
     "data": {
      "text/plain": [
       "<matplotlib.axes._subplots.AxesSubplot at 0x7fb8556654d0>"
      ]
     },
     "execution_count": 132,
     "metadata": {},
     "output_type": "execute_result"
    },
    {
     "data": {
      "image/png": "[encoded data removed]",
      "text/plain": [
       "<Figure size 432x288 with 1 Axes>"
      ]
     },
     "metadata": {
      "needs_background": "light"
     },
     "output_type": "display_data"
    }
   ],
   "source": [
    "mod = 'deep_fir_zero'\n",
    "sns.barplot(d3[d3['model']==mod]['num_train'],d3[d3['model']==mod]['accuracy'])"
   ]
  },
  {
   "cell_type": "code",
   "execution_count": 133,
   "metadata": {},
   "outputs": [
    {
     "name": "stdout",
     "output_type": "stream",
     "text": [
      "14\n"
     ]
    },
    {
     "data": {
      "text/html": [
       "<div>\n",
       "<style scoped>\n",
       "    .dataframe tbody tr th:only-of-type {\n",
       "        vertical-align: middle;\n",
       "    }\n",
       "\n",
       "    .dataframe tbody tr th {\n",
       "        vertical-align: top;\n",
       "    }\n",
       "\n",
       "    .dataframe thead th {\n",
       "        text-align: right;\n",
       "    }\n",
       "</style>\n",
       "<table border=\"1\" class=\"dataframe\">\n",
       "  <thead>\n",
       "    <tr style=\"text-align: right;\">\n",
       "      <th></th>\n",
       "      <th>model</th>\n",
       "      <th>num_epochs</th>\n",
       "      <th>num_train</th>\n",
       "      <th>coeff</th>\n",
       "      <th>accuracy</th>\n",
       "    </tr>\n",
       "  </thead>\n",
       "  <tbody>\n",
       "    <tr>\n",
       "      <th>11</th>\n",
       "      <td>deep_fir</td>\n",
       "      <td>10</td>\n",
       "      <td>600</td>\n",
       "      <td>0.01</td>\n",
       "      <td>0.887083</td>\n",
       "    </tr>\n",
       "    <tr>\n",
       "      <th>12</th>\n",
       "      <td>deep_fir</td>\n",
       "      <td>10</td>\n",
       "      <td>600</td>\n",
       "      <td>0.10</td>\n",
       "      <td>0.925417</td>\n",
       "    </tr>\n",
       "    <tr>\n",
       "      <th>13</th>\n",
       "      <td>deep_fir</td>\n",
       "      <td>10</td>\n",
       "      <td>600</td>\n",
       "      <td>0.01</td>\n",
       "      <td>0.857917</td>\n",
       "    </tr>\n",
       "    <tr>\n",
       "      <th>14</th>\n",
       "      <td>deep_fir</td>\n",
       "      <td>10</td>\n",
       "      <td>600</td>\n",
       "      <td>0.10</td>\n",
       "      <td>0.930000</td>\n",
       "    </tr>\n",
       "    <tr>\n",
       "      <th>15</th>\n",
       "      <td>deep_fir</td>\n",
       "      <td>10</td>\n",
       "      <td>600</td>\n",
       "      <td>0.01</td>\n",
       "      <td>0.754167</td>\n",
       "    </tr>\n",
       "    <tr>\n",
       "      <th>16</th>\n",
       "      <td>deep_fir</td>\n",
       "      <td>10</td>\n",
       "      <td>600</td>\n",
       "      <td>0.10</td>\n",
       "      <td>0.904583</td>\n",
       "    </tr>\n",
       "    <tr>\n",
       "      <th>17</th>\n",
       "      <td>deep_fir</td>\n",
       "      <td>10</td>\n",
       "      <td>600</td>\n",
       "      <td>0.50</td>\n",
       "      <td>0.903333</td>\n",
       "    </tr>\n",
       "    <tr>\n",
       "      <th>18</th>\n",
       "      <td>deep_fir</td>\n",
       "      <td>10</td>\n",
       "      <td>600</td>\n",
       "      <td>0.01</td>\n",
       "      <td>0.839167</td>\n",
       "    </tr>\n",
       "    <tr>\n",
       "      <th>19</th>\n",
       "      <td>deep_fir</td>\n",
       "      <td>10</td>\n",
       "      <td>600</td>\n",
       "      <td>0.10</td>\n",
       "      <td>0.830833</td>\n",
       "    </tr>\n",
       "    <tr>\n",
       "      <th>20</th>\n",
       "      <td>deep_fir</td>\n",
       "      <td>10</td>\n",
       "      <td>600</td>\n",
       "      <td>0.50</td>\n",
       "      <td>0.897500</td>\n",
       "    </tr>\n",
       "  </tbody>\n",
       "</table>\n",
       "</div>"
      ],
      "text/plain": [
       "       model  num_epochs  num_train  coeff  accuracy\n",
       "11  deep_fir          10        600   0.01  0.887083\n",
       "12  deep_fir          10        600   0.10  0.925417\n",
       "13  deep_fir          10        600   0.01  0.857917\n",
       "14  deep_fir          10        600   0.10  0.930000\n",
       "15  deep_fir          10        600   0.01  0.754167\n",
       "16  deep_fir          10        600   0.10  0.904583\n",
       "17  deep_fir          10        600   0.50  0.903333\n",
       "18  deep_fir          10        600   0.01  0.839167\n",
       "19  deep_fir          10        600   0.10  0.830833\n",
       "20  deep_fir          10        600   0.50  0.897500"
      ]
     },
     "execution_count": 133,
     "metadata": {},
     "output_type": "execute_result"
    }
   ],
   "source": [
    "data = pd.read_csv('results2.txt')\n",
    "data = data[data['model']=='deep_fir']\n",
    "data = data[data['num_train']==600]\n",
    "print(len(data))\n",
    "data.tail(10)"
   ]
  },
  {
   "cell_type": "code",
   "execution_count": 134,
   "metadata": {},
   "outputs": [
    {
     "data": {
      "text/plain": [
       "<matplotlib.axes._subplots.AxesSubplot at 0x7fb855618690>"
      ]
     },
     "execution_count": 134,
     "metadata": {},
     "output_type": "execute_result"
    },
    {
     "data": {
      "image/png": "[encoded data removed]",
      "text/plain": [
       "<Figure size 432x288 with 1 Axes>"
      ]
     },
     "metadata": {
      "needs_background": "light"
     },
     "output_type": "display_data"
    }
   ],
   "source": [
    "sns.boxplot(data['coeff'].astype(str),data['accuracy'])"
   ]
  },
  {
   "cell_type": "code",
   "execution_count": 137,
   "metadata": {},
   "outputs": [
    {
     "name": "stdout",
     "output_type": "stream",
     "text": [
      "19\n"
     ]
    },
    {
     "data": {
      "text/plain": [
       "<matplotlib.axes._subplots.AxesSubplot at 0x7fb85563d310>"
      ]
     },
     "execution_count": 137,
     "metadata": {},
     "output_type": "execute_result"
    },
    {
     "data": {
      "image/png": "[encoded data removed]",
      "text/plain": [
       "<Figure size 432x288 with 1 Axes>"
      ]
     },
     "metadata": {
      "needs_background": "light"
     },
     "output_type": "display_data"
    }
   ],
   "source": [
    "data = pd.read_csv('results2.txt')\n",
    "data = data[data['model']=='deep_fir']\n",
    "print(len(data))\n",
    "sns.boxplot(data['coeff'].astype(str),data['accuracy'])"
   ]
  },
  {
   "cell_type": "code",
   "execution_count": 136,
   "metadata": {},
   "outputs": [
    {
     "data": {
      "text/html": [
       "<div>\n",
       "<style scoped>\n",
       "    .dataframe tbody tr th:only-of-type {\n",
       "        vertical-align: middle;\n",
       "    }\n",
       "\n",
       "    .dataframe tbody tr th {\n",
       "        vertical-align: top;\n",
       "    }\n",
       "\n",
       "    .dataframe thead th {\n",
       "        text-align: right;\n",
       "    }\n",
       "</style>\n",
       "<table border=\"1\" class=\"dataframe\">\n",
       "  <thead>\n",
       "    <tr style=\"text-align: right;\">\n",
       "      <th></th>\n",
       "      <th>Experiment</th>\n",
       "      <th>Model</th>\n",
       "      <th>Accuracy</th>\n",
       "    </tr>\n",
       "  </thead>\n",
       "  <tbody>\n",
       "    <tr>\n",
       "      <th>16</th>\n",
       "      <td>Gaussian_1.5</td>\n",
       "      <td>fir</td>\n",
       "      <td>7839249</td>\n",
       "    </tr>\n",
       "    <tr>\n",
       "      <th>17</th>\n",
       "      <td>Gaussian_1.5</td>\n",
       "      <td>fir</td>\n",
       "      <td>7989249</td>\n",
       "    </tr>\n",
       "    <tr>\n",
       "      <th>18</th>\n",
       "      <td>Gaussian_1.5</td>\n",
       "      <td>cheb</td>\n",
       "      <td>7919249</td>\n",
       "    </tr>\n",
       "    <tr>\n",
       "      <th>19</th>\n",
       "      <td>Gaussian_1.5</td>\n",
       "      <td>cheb</td>\n",
       "      <td>7249249</td>\n",
       "    </tr>\n",
       "    <tr>\n",
       "      <th>20</th>\n",
       "      <td>Gaussian_1.5</td>\n",
       "      <td>cheb</td>\n",
       "      <td>7449249</td>\n",
       "    </tr>\n",
       "    <tr>\n",
       "      <th>21</th>\n",
       "      <td>Gaussian_1.5</td>\n",
       "      <td>cheb</td>\n",
       "      <td>7449249</td>\n",
       "    </tr>\n",
       "    <tr>\n",
       "      <th>22</th>\n",
       "      <td>Gaussian_1.5</td>\n",
       "      <td>cheb</td>\n",
       "      <td>8149249</td>\n",
       "    </tr>\n",
       "    <tr>\n",
       "      <th>23</th>\n",
       "      <td>Uniform</td>\n",
       "      <td>fir</td>\n",
       "      <td>8539836</td>\n",
       "    </tr>\n",
       "    <tr>\n",
       "      <th>24</th>\n",
       "      <td>Uniform</td>\n",
       "      <td>fir</td>\n",
       "      <td>8738734</td>\n",
       "    </tr>\n",
       "    <tr>\n",
       "      <th>25</th>\n",
       "      <td>Uniform</td>\n",
       "      <td>fir</td>\n",
       "      <td>8638233</td>\n",
       "    </tr>\n",
       "    <tr>\n",
       "      <th>26</th>\n",
       "      <td>Uniform</td>\n",
       "      <td>fir</td>\n",
       "      <td>8503823</td>\n",
       "    </tr>\n",
       "    <tr>\n",
       "      <th>27</th>\n",
       "      <td>Uniform</td>\n",
       "      <td>fir</td>\n",
       "      <td>8603823</td>\n",
       "    </tr>\n",
       "    <tr>\n",
       "      <th>28</th>\n",
       "      <td>Uniform</td>\n",
       "      <td>fir</td>\n",
       "      <td>8703823</td>\n",
       "    </tr>\n",
       "    <tr>\n",
       "      <th>29</th>\n",
       "      <td>Uniform</td>\n",
       "      <td>fir</td>\n",
       "      <td>8703823</td>\n",
       "    </tr>\n",
       "    <tr>\n",
       "      <th>30</th>\n",
       "      <td>Uniform</td>\n",
       "      <td>cheb</td>\n",
       "      <td>6843823</td>\n",
       "    </tr>\n",
       "    <tr>\n",
       "      <th>31</th>\n",
       "      <td>Uniform</td>\n",
       "      <td>cheb</td>\n",
       "      <td>7753823</td>\n",
       "    </tr>\n",
       "    <tr>\n",
       "      <th>32</th>\n",
       "      <td>Uniform</td>\n",
       "      <td>cheb</td>\n",
       "      <td>8083823</td>\n",
       "    </tr>\n",
       "    <tr>\n",
       "      <th>33</th>\n",
       "      <td>Uniform</td>\n",
       "      <td>cheb</td>\n",
       "      <td>7703234</td>\n",
       "    </tr>\n",
       "    <tr>\n",
       "      <th>34</th>\n",
       "      <td>Uniform</td>\n",
       "      <td>cheb</td>\n",
       "      <td>8083784</td>\n",
       "    </tr>\n",
       "    <tr>\n",
       "      <th>35</th>\n",
       "      <td>Uniform</td>\n",
       "      <td>cheb</td>\n",
       "      <td>8583784</td>\n",
       "    </tr>\n",
       "  </tbody>\n",
       "</table>\n",
       "</div>"
      ],
      "text/plain": [
       "      Experiment Model  Accuracy\n",
       "16  Gaussian_1.5   fir   7839249\n",
       "17  Gaussian_1.5   fir   7989249\n",
       "18  Gaussian_1.5  cheb   7919249\n",
       "19  Gaussian_1.5  cheb   7249249\n",
       "20  Gaussian_1.5  cheb   7449249\n",
       "21  Gaussian_1.5  cheb   7449249\n",
       "22  Gaussian_1.5  cheb   8149249\n",
       "23       Uniform   fir   8539836\n",
       "24       Uniform   fir   8738734\n",
       "25       Uniform   fir   8638233\n",
       "26       Uniform   fir   8503823\n",
       "27       Uniform   fir   8603823\n",
       "28       Uniform   fir   8703823\n",
       "29       Uniform   fir   8703823\n",
       "30       Uniform  cheb   6843823\n",
       "31       Uniform  cheb   7753823\n",
       "32       Uniform  cheb   8083823\n",
       "33       Uniform  cheb   7703234\n",
       "34       Uniform  cheb   8083784\n",
       "35       Uniform  cheb   8583784"
      ]
     },
     "execution_count": 136,
     "metadata": {},
     "output_type": "execute_result"
    }
   ],
   "source": [
    "data = pd.read_csv('epidemicsres.txt').reset_index().drop('model',axis=1)\n",
    "data.columns = ['Experiment','Model','Accuracy']\n",
    "data['Model']=data['Model']\n",
    "data.tail(20)"
   ]
  },
  {
   "cell_type": "code",
   "execution_count": 119,
   "metadata": {},
   "outputs": [
    {
     "data": {
      "image/png": "[encoded data removed]",
      "text/plain": [
       "<Figure size 1080x720 with 1 Axes>"
      ]
     },
     "metadata": {
      "needs_background": "light"
     },
     "output_type": "display_data"
    }
   ],
   "source": [
    "plt.figure(figsize=(15, 10))\n",
    "sns.boxplot(x='Experiment', hue=\"Model\", y=\"Accuracy\", data=data)\n",
    "plt.show()"
   ]
  },
  {
   "cell_type": "code",
   "execution_count": null,
   "metadata": {},
   "outputs": [],
   "source": []
  }
 ],
 "metadata": {
  "kernelspec": {
   "display_name": "Python 3",
   "language": "python",
   "name": "python3"
  },
  "language_info": {
   "codemirror_mode": {
    "name": "ipython",
    "version": 3
   },
   "file_extension": ".py",
   "mimetype": "text/x-python",
   "name": "python",
   "nbconvert_exporter": "python",
   "pygments_lexer": "ipython3",
   "version": "3.7.4"
  }
 },
 "nbformat": 4,
 "nbformat_minor": 2
}
