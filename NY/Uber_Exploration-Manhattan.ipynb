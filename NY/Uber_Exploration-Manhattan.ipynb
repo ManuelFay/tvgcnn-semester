{
 "cells": [
  {
   "cell_type": "markdown",
   "metadata": {},
   "source": [
    "# NY Uber dataset\n",
    "\n",
    "All data was taken from fivethirtyeight's data:\n",
    "\n",
    "\n",
    "https://github.com/fivethirtyeight/uber-tlc-foil-response"
   ]
  },
  {
   "cell_type": "code",
   "execution_count": 7,
   "metadata": {},
   "outputs": [],
   "source": [
    "import pandas as pd\n",
    "import matplotlib.pyplot as plt\n",
    "import numpy as np\n",
    "import networkx as nx"
   ]
  },
  {
   "cell_type": "code",
   "execution_count": 8,
   "metadata": {},
   "outputs": [],
   "source": [
    "DATA_PATH = 'data/'\n",
    "\n",
    "\n",
    "raw = pd.read_csv(DATA_PATH+'uber-raw-data-janjune-15.csv',parse_dates=['Pickup_date'])\n",
    "locID = pd.read_csv(DATA_PATH+'taxi-zone-lookup.csv')"
   ]
  },
  {
   "cell_type": "markdown",
   "metadata": {},
   "source": [
    "### Removing unpopular nodes"
   ]
  },
  {
   "cell_type": "code",
   "execution_count": 35,
   "metadata": {},
   "outputs": [],
   "source": [
    "gpsData = pd.read_csv(DATA_PATH+'gps_zones.csv')\n",
    "gpsData = gpsData.drop('Unnamed: 0',axis=1)\n",
    "gpsData['Counts'] = raw['locationID'].value_counts().reindex(gpsData.LocationID.unique(), fill_value=0).values"
   ]
  },
  {
   "cell_type": "code",
   "execution_count": 36,
   "metadata": {},
   "outputs": [
    {
     "data": {
      "text/plain": [
       "Text(0.5, 1.0, 'Counts per zones')"
      ]
     },
     "execution_count": 36,
     "metadata": {},
     "output_type": "execute_result"
    },
    {
     "data": {
      "image/png": "[encoded data removed]",
      "text/plain": [
       "<Figure size 432x288 with 1 Axes>"
      ]
     },
     "metadata": {
      "needs_background": "light"
     },
     "output_type": "display_data"
    }
   ],
   "source": [
    "ordered = gpsData.sort_values(by='Counts',ascending=False)\n",
    "plt.bar(range(len(ordered)),ordered['Counts'])\n",
    "plt.title('Counts per zones')"
   ]
  },
  {
   "cell_type": "code",
   "execution_count": 37,
   "metadata": {},
   "outputs": [
    {
     "data": {
      "text/plain": [
       "49"
      ]
     },
     "execution_count": 37,
     "metadata": {},
     "output_type": "execute_result"
    }
   ],
   "source": [
    "gpsData = gpsData.drop(264)\n",
    "gpsData = gpsData[gpsData['Counts']>100000]\n",
    "gpsData.to_csv(DATA_PATH+'finalGpsMax.csv')\n",
    "len(gpsData)"
   ]
  }
 ],
 "metadata": {
  "kernelspec": {
   "display_name": "Python 3",
   "language": "python",
   "name": "python3"
  },
  "language_info": {
   "codemirror_mode": {
    "name": "ipython",
    "version": 3
   },
   "file_extension": ".py",
   "mimetype": "text/x-python",
   "name": "python",
   "nbconvert_exporter": "python",
   "pygments_lexer": "ipython3",
   "version": "3.7.4"
  }
 },
 "nbformat": 4,
 "nbformat_minor": 2
}
